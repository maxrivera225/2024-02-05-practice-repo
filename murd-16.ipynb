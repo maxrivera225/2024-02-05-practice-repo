{
 "cells": [
  {
   "cell_type": "code",
   "execution_count": 1,
   "id": "7db88934",
   "metadata": {},
   "outputs": [],
   "source": [
    "chicago_murders = 762\n",
    "la_murders = 294\n",
    "nyc_murders = 334\n",
    "sjc_murders = 47"
   ]
  },
  {
   "cell_type": "code",
   "execution_count": 2,
   "id": "a277fcf5",
   "metadata": {},
   "outputs": [],
   "source": [
    "chicago_pop = 2_705_000\n",
    "la_pop = 3_976_000\n",
    "nyc_pop = 8_538_000\n",
    "sjc_pop = 1_025_000"
   ]
  },
  {
   "cell_type": "code",
   "execution_count": 8,
   "id": "14ecc3ed",
   "metadata": {},
   "outputs": [
    {
     "data": {
      "text/plain": [
       "28.170055452865068"
      ]
     },
     "execution_count": 8,
     "metadata": {},
     "output_type": "execute_result"
    }
   ],
   "source": [
    "chicago_murders / chicago_pop * 100_000"
   ]
  },
  {
   "cell_type": "code",
   "execution_count": 7,
   "id": "aa301a5d",
   "metadata": {},
   "outputs": [
    {
     "data": {
      "text/plain": [
       "4.585365853658536"
      ]
     },
     "execution_count": 7,
     "metadata": {},
     "output_type": "execute_result"
    }
   ],
   "source": [
    "sjc_murders / sjc_pop * 100_000"
   ]
  },
  {
   "cell_type": "code",
   "execution_count": 9,
   "id": "077704f7",
   "metadata": {},
   "outputs": [
    {
     "data": {
      "text/plain": [
       "3.911923167018037"
      ]
     },
     "execution_count": 9,
     "metadata": {},
     "output_type": "execute_result"
    }
   ],
   "source": [
    "nyc_murders / nyc_pop * 100_000"
   ]
  },
  {
   "cell_type": "code",
   "execution_count": 10,
   "id": "5e0e8eee",
   "metadata": {},
   "outputs": [
    {
     "data": {
      "text/plain": [
       "7.394366197183098"
      ]
     },
     "execution_count": 10,
     "metadata": {},
     "output_type": "execute_result"
    }
   ],
   "source": [
    "la_murders / la_pop * 100_000"
   ]
  },
  {
   "cell_type": "code",
   "execution_count": 13,
   "id": "a81e78be",
   "metadata": {},
   "outputs": [
    {
     "name": "stdout",
     "output_type": "stream",
     "text": [
      "New York City has a murder rate of 3.911923167018037 per 100K while Chicago has a murder rate of 28.170055452865068per 100k\n"
     ]
    }
   ],
   "source": [
    "print(f\"New York City has a murder rate of {nyc_murders / nyc_pop * 100_000} per 100K while Chicago has a murder rate of {chicago_murders / chicago_pop * 100_000}per 100k\")"
   ]
  },
  {
   "cell_type": "code",
   "execution_count": null,
   "id": "50a9832c",
   "metadata": {},
   "outputs": [],
   "source": []
  }
 ],
 "metadata": {
  "kernelspec": {
   "display_name": "Python 3 (ipykernel)",
   "language": "python",
   "name": "python3"
  },
  "language_info": {
   "codemirror_mode": {
    "name": "ipython",
    "version": 3
   },
   "file_extension": ".py",
   "mimetype": "text/x-python",
   "name": "python",
   "nbconvert_exporter": "python",
   "pygments_lexer": "ipython3",
   "version": "3.11.5"
  }
 },
 "nbformat": 4,
 "nbformat_minor": 5
}
